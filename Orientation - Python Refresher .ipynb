{
 "cells": [
  {
   "cell_type": "markdown",
   "id": "f9898e4d-f619-4c12-852d-b93c7b5ec05f",
   "metadata": {},
   "source": [
    "# **Data Types**"
   ]
  },
  {
   "cell_type": "code",
   "execution_count": 1,
   "id": "647fb0a3-aea8-4909-8cca-5be07d9ae19c",
   "metadata": {},
   "outputs": [
    {
     "data": {
      "text/plain": [
       "int"
      ]
     },
     "execution_count": 1,
     "metadata": {},
     "output_type": "execute_result"
    }
   ],
   "source": [
    "type(1)  "
   ]
  },
  {
   "cell_type": "code",
   "execution_count": 2,
   "id": "b45950df-63ee-437d-8477-13249469fe8f",
   "metadata": {},
   "outputs": [
    {
     "data": {
      "text/plain": [
       "float"
      ]
     },
     "execution_count": 2,
     "metadata": {},
     "output_type": "execute_result"
    }
   ],
   "source": [
    "type(1.5)"
   ]
  },
  {
   "cell_type": "code",
   "execution_count": 3,
   "id": "02cab406-1a61-4716-9507-099ff295284a",
   "metadata": {},
   "outputs": [
    {
     "data": {
      "text/plain": [
       "str"
      ]
     },
     "execution_count": 3,
     "metadata": {},
     "output_type": "execute_result"
    }
   ],
   "source": [
    "type(\"Jimmy Johson\")"
   ]
  },
  {
   "cell_type": "code",
   "execution_count": 4,
   "id": "2e91542a-2323-4a8d-9ebe-85b36e4d06c4",
   "metadata": {},
   "outputs": [
    {
     "data": {
      "text/plain": [
       "str"
      ]
     },
     "execution_count": 4,
     "metadata": {},
     "output_type": "execute_result"
    }
   ],
   "source": [
    "type(\"3\")"
   ]
  },
  {
   "cell_type": "code",
   "execution_count": 5,
   "id": "c7d64569-b0a5-44ba-977a-db43459112bd",
   "metadata": {},
   "outputs": [
    {
     "data": {
      "text/plain": [
       "bool"
      ]
     },
     "execution_count": 5,
     "metadata": {},
     "output_type": "execute_result"
    }
   ],
   "source": [
    "type(False)"
   ]
  },
  {
   "cell_type": "code",
   "execution_count": 6,
   "id": "02baea49-ab08-4ba7-9c02-487cb2af1c84",
   "metadata": {},
   "outputs": [
    {
     "data": {
      "text/plain": [
       "bool"
      ]
     },
     "execution_count": 6,
     "metadata": {},
     "output_type": "execute_result"
    }
   ],
   "source": [
    "type(True)"
   ]
  },
  {
   "cell_type": "markdown",
   "id": "b129848a-0b61-4b9f-9018-36354ffefb77",
   "metadata": {},
   "source": [
    "## Why Data Types Matter"
   ]
  },
  {
   "cell_type": "code",
   "execution_count": 7,
   "id": "e28aef3c-0e7f-4093-b43f-390168b2eaaa",
   "metadata": {},
   "outputs": [
    {
     "data": {
      "text/plain": [
       "1"
      ]
     },
     "execution_count": 7,
     "metadata": {},
     "output_type": "execute_result"
    }
   ],
   "source": [
    "False+True"
   ]
  },
  {
   "cell_type": "code",
   "execution_count": 8,
   "id": "27b4b804-80b4-45e2-a68f-97605a2f1dc5",
   "metadata": {},
   "outputs": [
    {
     "data": {
      "text/plain": [
       "int"
      ]
     },
     "execution_count": 8,
     "metadata": {},
     "output_type": "execute_result"
    }
   ],
   "source": [
    "type(False+True)"
   ]
  },
  {
   "cell_type": "code",
   "execution_count": 9,
   "id": "17e5912e-3a5c-4605-96c1-c3a937364f97",
   "metadata": {},
   "outputs": [
    {
     "data": {
      "text/plain": [
       "3"
      ]
     },
     "execution_count": 9,
     "metadata": {},
     "output_type": "execute_result"
    }
   ],
   "source": [
    "1+2"
   ]
  },
  {
   "cell_type": "code",
   "execution_count": 10,
   "id": "ae28ad9a-0c79-455a-a2f7-ee4ef9e9a944",
   "metadata": {},
   "outputs": [
    {
     "data": {
      "text/plain": [
       "'KaleSpinach'"
      ]
     },
     "execution_count": 10,
     "metadata": {},
     "output_type": "execute_result"
    }
   ],
   "source": [
    "\"Kale\" + \"Spinach\""
   ]
  },
  {
   "cell_type": "markdown",
   "id": "4e9c6db4-7bb1-4c47-8ec7-3e62c6b5d483",
   "metadata": {},
   "source": [
    "## Error"
   ]
  },
  {
   "cell_type": "code",
   "execution_count": 11,
   "id": "a118af3c-8cb7-4733-bd93-a8257e1648f1",
   "metadata": {},
   "outputs": [
    {
     "ename": "TypeError",
     "evalue": "unsupported operand type(s) for -: 'str' and 'str'",
     "output_type": "error",
     "traceback": [
      "\u001b[1;31m---------------------------------------------------------------------------\u001b[0m",
      "\u001b[1;31mTypeError\u001b[0m                                 Traceback (most recent call last)",
      "Cell \u001b[1;32mIn[11], line 1\u001b[0m\n\u001b[1;32m----> 1\u001b[0m \u001b[38;5;124m\"\u001b[39m\u001b[38;5;124mKale\u001b[39m\u001b[38;5;124m\"\u001b[39m \u001b[38;5;241m-\u001b[39m \u001b[38;5;124m\"\u001b[39m\u001b[38;5;124mSpinach\u001b[39m\u001b[38;5;124m\"\u001b[39m\n",
      "\u001b[1;31mTypeError\u001b[0m: unsupported operand type(s) for -: 'str' and 'str'"
     ]
    }
   ],
   "source": [
    "\"Kale\" - \"Spinach\""
   ]
  },
  {
   "cell_type": "markdown",
   "id": "e597391b-3c25-4f78-b71d-02cc2299a290",
   "metadata": {},
   "source": [
    "## Changing The Data Type"
   ]
  },
  {
   "cell_type": "code",
   "execution_count": 12,
   "id": "18f30cf2-a469-4b51-8da1-4646b9192e23",
   "metadata": {},
   "outputs": [
    {
     "data": {
      "text/plain": [
       "int"
      ]
     },
     "execution_count": 12,
     "metadata": {},
     "output_type": "execute_result"
    }
   ],
   "source": [
    "type(15)"
   ]
  },
  {
   "cell_type": "code",
   "execution_count": 13,
   "id": "e8bb189f-f16b-4f93-bb3c-382e04e1c6db",
   "metadata": {},
   "outputs": [
    {
     "data": {
      "text/plain": [
       "15.0"
      ]
     },
     "execution_count": 13,
     "metadata": {},
     "output_type": "execute_result"
    }
   ],
   "source": [
    "float(15)"
   ]
  },
  {
   "cell_type": "code",
   "execution_count": 14,
   "id": "cf50158d-0fd0-43a0-add3-73a9765f7e0c",
   "metadata": {},
   "outputs": [
    {
     "data": {
      "text/plain": [
       "int"
      ]
     },
     "execution_count": 14,
     "metadata": {},
     "output_type": "execute_result"
    }
   ],
   "source": [
    "type (15)"
   ]
  },
  {
   "cell_type": "code",
   "execution_count": 15,
   "id": "43355e5b-7d0d-4d12-af52-1f2b82686f43",
   "metadata": {},
   "outputs": [],
   "source": [
    "x=(15)"
   ]
  },
  {
   "cell_type": "code",
   "execution_count": 16,
   "id": "e01aff51-6183-4700-872e-9927760f6495",
   "metadata": {},
   "outputs": [
    {
     "data": {
      "text/plain": [
       "int"
      ]
     },
     "execution_count": 16,
     "metadata": {},
     "output_type": "execute_result"
    }
   ],
   "source": [
    "type(x)"
   ]
  },
  {
   "cell_type": "code",
   "execution_count": 17,
   "id": "96629696-d91a-40fc-9b5b-9b448e905a83",
   "metadata": {},
   "outputs": [],
   "source": [
    "y= float(x)"
   ]
  },
  {
   "cell_type": "code",
   "execution_count": 18,
   "id": "f8795ab4-b881-44cc-902b-6217919bc596",
   "metadata": {},
   "outputs": [
    {
     "data": {
      "text/plain": [
       "int"
      ]
     },
     "execution_count": 18,
     "metadata": {},
     "output_type": "execute_result"
    }
   ],
   "source": [
    "type(x)"
   ]
  },
  {
   "cell_type": "code",
   "execution_count": 19,
   "id": "4efab7aa-95ef-42ed-9ecb-871be67164fd",
   "metadata": {},
   "outputs": [
    {
     "data": {
      "text/plain": [
       "float"
      ]
     },
     "execution_count": 19,
     "metadata": {},
     "output_type": "execute_result"
    }
   ],
   "source": [
    "type(y)"
   ]
  },
  {
   "cell_type": "code",
   "execution_count": 20,
   "id": "10c60dcb-8cea-4d32-aac5-8b95f566c065",
   "metadata": {},
   "outputs": [
    {
     "data": {
      "text/plain": [
       "'12'"
      ]
     },
     "execution_count": 20,
     "metadata": {},
     "output_type": "execute_result"
    }
   ],
   "source": [
    "str(12)"
   ]
  },
  {
   "cell_type": "markdown",
   "id": "1b0296e9-9f6b-4902-b708-9b30b92ab7c4",
   "metadata": {},
   "source": [
    "**Other Examples**"
   ]
  },
  {
   "cell_type": "markdown",
   "id": "7d0eb8a4-d663-471f-9937-ea03f048421f",
   "metadata": {},
   "source": [
    "- int()\n",
    "- bool()"
   ]
  },
  {
   "cell_type": "markdown",
   "id": "a03d1bb3-bb6d-46b3-8058-ad52ef664c38",
   "metadata": {},
   "source": [
    "**Quick Boolean Example**"
   ]
  },
  {
   "cell_type": "code",
   "execution_count": 23,
   "id": "5fedc24f-99d0-4744-970c-817915aa7276",
   "metadata": {},
   "outputs": [
    {
     "name": "stdout",
     "output_type": "stream",
     "text": [
      "True\n"
     ]
    }
   ],
   "source": [
    "z= bool(123)\n",
    "print(z)"
   ]
  },
  {
   "cell_type": "code",
   "execution_count": 22,
   "id": "08dda996-b4c6-4f99-b660-65f9dd637b1f",
   "metadata": {},
   "outputs": [
    {
     "name": "stdout",
     "output_type": "stream",
     "text": [
      "False\n"
     ]
    }
   ],
   "source": [
    "n=bool(0)\n",
    "print(n)"
   ]
  },
  {
   "cell_type": "code",
   "execution_count": 25,
   "id": "e83bef92-1f7f-42d7-be05-d0bd5324d021",
   "metadata": {},
   "outputs": [
    {
     "name": "stdout",
     "output_type": "stream",
     "text": [
      "True\n"
     ]
    }
   ],
   "source": [
    "m=bool(-2)\n",
    "print(m)"
   ]
  },
  {
   "cell_type": "markdown",
   "id": "81d0dc99-d29e-410b-814a-3fe927836b5d",
   "metadata": {},
   "source": [
    "## **Other Data Types**\n",
    "- Lists\n",
    "- Tuples\n",
    "- Dictionaries\n",
    "- DataFrames\n"
   ]
  },
  {
   "cell_type": "markdown",
   "id": "19e02f28-33f7-4962-b17e-0fee5a07f7bf",
   "metadata": {},
   "source": [
    "# **Comparison and Logical Operators**"
   ]
  },
  {
   "cell_type": "markdown",
   "id": "ad7eabdf-5bf7-4b07-97c7-62550ddbecf6",
   "metadata": {},
   "source": [
    "## Boolean Review"
   ]
  },
  {
   "cell_type": "code",
   "execution_count": 27,
   "id": "7a42bf56-7f4d-4d65-8ad5-75b25ff6ad00",
   "metadata": {},
   "outputs": [],
   "source": [
    "x=True\n",
    "y=False"
   ]
  },
  {
   "cell_type": "code",
   "execution_count": 28,
   "id": "61d7c5d1-f0dc-4b07-b72a-7de1e30008b9",
   "metadata": {},
   "outputs": [
    {
     "data": {
      "text/plain": [
       "3"
      ]
     },
     "execution_count": 28,
     "metadata": {},
     "output_type": "execute_result"
    }
   ],
   "source": [
    "x+2"
   ]
  },
  {
   "cell_type": "code",
   "execution_count": 29,
   "id": "688a1b3c-8e74-4e11-9e84-71737f26947d",
   "metadata": {},
   "outputs": [
    {
     "data": {
      "text/plain": [
       "2"
      ]
     },
     "execution_count": 29,
     "metadata": {},
     "output_type": "execute_result"
    }
   ],
   "source": [
    "y+2"
   ]
  },
  {
   "cell_type": "code",
   "execution_count": 30,
   "id": "b8f0bbab-2dfa-4fa9-af5f-9b84ba925b32",
   "metadata": {},
   "outputs": [
    {
     "data": {
      "text/plain": [
       "1"
      ]
     },
     "execution_count": 30,
     "metadata": {},
     "output_type": "execute_result"
    }
   ],
   "source": [
    "y+x"
   ]
  },
  {
   "cell_type": "code",
   "execution_count": 32,
   "id": "b15dd425-bd27-4b1e-99f6-a0013cb26419",
   "metadata": {},
   "outputs": [
    {
     "name": "stdout",
     "output_type": "stream",
     "text": [
      "1\n"
     ]
    }
   ],
   "source": [
    "m=int(x)\n",
    "print(m)"
   ]
  },
  {
   "cell_type": "code",
   "execution_count": 35,
   "id": "be1e1d9e-315e-401c-b5ad-e84dfe4fac5c",
   "metadata": {},
   "outputs": [
    {
     "name": "stdout",
     "output_type": "stream",
     "text": [
      "0\n"
     ]
    }
   ],
   "source": [
    "n=int(y)\n",
    "print(n)"
   ]
  },
  {
   "cell_type": "markdown",
   "id": "74e36952-f29c-4a74-a9a0-6f2378f72834",
   "metadata": {},
   "source": [
    "## Comparison Operators"
   ]
  },
  {
   "cell_type": "code",
   "execution_count": 36,
   "id": "5de2e497-d1d1-46c8-91f1-0b3c24f1bec9",
   "metadata": {},
   "outputs": [
    {
     "data": {
      "text/plain": [
       "False"
      ]
     },
     "execution_count": 36,
     "metadata": {},
     "output_type": "execute_result"
    }
   ],
   "source": [
    "# == Checks for equality\n",
    "4==5"
   ]
  },
  {
   "cell_type": "code",
   "execution_count": 37,
   "id": "b8cc7395-db20-4c1e-84a5-6ebe37efbf56",
   "metadata": {},
   "outputs": [],
   "source": [
    "# < Less than"
   ]
  },
  {
   "cell_type": "code",
   "execution_count": 38,
   "id": "185086ce-6304-434e-824e-5e5e63d6e2f8",
   "metadata": {},
   "outputs": [],
   "source": [
    "# > Greater than"
   ]
  },
  {
   "cell_type": "code",
   "execution_count": 39,
   "id": "b330b445-a90f-42fe-8518-aef1e830deb0",
   "metadata": {},
   "outputs": [],
   "source": [
    "# >= Greater than or equal to"
   ]
  },
  {
   "cell_type": "code",
   "execution_count": 40,
   "id": "ab2ca074-f9d1-42d9-871e-2fd78e652966",
   "metadata": {},
   "outputs": [],
   "source": [
    "# <= Less than or equal to"
   ]
  },
  {
   "cell_type": "code",
   "execution_count": 41,
   "id": "d0fb2202-c6da-4a8d-96b1-7afeb787351f",
   "metadata": {},
   "outputs": [],
   "source": [
    "# != Does not equal"
   ]
  },
  {
   "cell_type": "markdown",
   "id": "393317dc-520c-45dd-8ebc-928d65ac0bc8",
   "metadata": {},
   "source": [
    "## Logical Operators"
   ]
  },
  {
   "cell_type": "code",
   "execution_count": 42,
   "id": "5324357b-e745-466f-959e-71365a3190d0",
   "metadata": {},
   "outputs": [
    {
     "data": {
      "text/plain": [
       "True"
      ]
     },
     "execution_count": 42,
     "metadata": {},
     "output_type": "execute_result"
    }
   ],
   "source": [
    "True and True"
   ]
  },
  {
   "cell_type": "code",
   "execution_count": 43,
   "id": "a5ec3c93-a8fb-40ac-bf55-9cd752cec456",
   "metadata": {},
   "outputs": [
    {
     "data": {
      "text/plain": [
       "False"
      ]
     },
     "execution_count": 43,
     "metadata": {},
     "output_type": "execute_result"
    }
   ],
   "source": [
    "False and False"
   ]
  },
  {
   "cell_type": "code",
   "execution_count": 44,
   "id": "15da6af8-c1f2-4da4-81e0-38d4a7dbf919",
   "metadata": {},
   "outputs": [
    {
     "data": {
      "text/plain": [
       "False"
      ]
     },
     "execution_count": 44,
     "metadata": {},
     "output_type": "execute_result"
    }
   ],
   "source": [
    "True and False"
   ]
  },
  {
   "cell_type": "code",
   "execution_count": 45,
   "id": "aaac287c-6d65-4ed6-af23-585c3086ee92",
   "metadata": {},
   "outputs": [
    {
     "data": {
      "text/plain": [
       "True"
      ]
     },
     "execution_count": 45,
     "metadata": {},
     "output_type": "execute_result"
    }
   ],
   "source": [
    "True or True"
   ]
  },
  {
   "cell_type": "code",
   "execution_count": 46,
   "id": "9f8a77f8-4480-4297-94df-9d5d4a5c8e2d",
   "metadata": {},
   "outputs": [
    {
     "data": {
      "text/plain": [
       "True"
      ]
     },
     "execution_count": 46,
     "metadata": {},
     "output_type": "execute_result"
    }
   ],
   "source": [
    "True or False"
   ]
  },
  {
   "cell_type": "code",
   "execution_count": 47,
   "id": "7b604d09-ab1c-4462-9e6c-77dc77f454b9",
   "metadata": {},
   "outputs": [
    {
     "data": {
      "text/plain": [
       "False"
      ]
     },
     "execution_count": 47,
     "metadata": {},
     "output_type": "execute_result"
    }
   ],
   "source": [
    "True and True and False and True"
   ]
  },
  {
   "cell_type": "code",
   "execution_count": 48,
   "id": "9b46203f-a87a-4d08-a819-012cc18d678f",
   "metadata": {},
   "outputs": [
    {
     "data": {
      "text/plain": [
       "True"
      ]
     },
     "execution_count": 48,
     "metadata": {},
     "output_type": "execute_result"
    }
   ],
   "source": [
    "True and True or False"
   ]
  },
  {
   "cell_type": "code",
   "execution_count": 49,
   "id": "5de9a40a-123e-4769-9093-502283635119",
   "metadata": {},
   "outputs": [],
   "source": [
    "x=5\n",
    "y=10"
   ]
  },
  {
   "cell_type": "code",
   "execution_count": 50,
   "id": "8b1ac0b1-a2a7-47f5-8483-3d26bcff1651",
   "metadata": {},
   "outputs": [
    {
     "data": {
      "text/plain": [
       "True"
      ]
     },
     "execution_count": 50,
     "metadata": {},
     "output_type": "execute_result"
    }
   ],
   "source": [
    "x>3 and y<20"
   ]
  },
  {
   "cell_type": "code",
   "execution_count": 51,
   "id": "1df2942a-4a83-42e4-bdff-2d13bfb988ca",
   "metadata": {},
   "outputs": [
    {
     "data": {
      "text/plain": [
       "False"
      ]
     },
     "execution_count": 51,
     "metadata": {},
     "output_type": "execute_result"
    }
   ],
   "source": [
    "not True"
   ]
  },
  {
   "cell_type": "code",
   "execution_count": 52,
   "id": "4a76d28b-fff5-478d-8d29-b627bfb66bac",
   "metadata": {},
   "outputs": [
    {
     "data": {
      "text/plain": [
       "True"
      ]
     },
     "execution_count": 52,
     "metadata": {},
     "output_type": "execute_result"
    }
   ],
   "source": [
    "not False"
   ]
  },
  {
   "cell_type": "markdown",
   "id": "4013e2de-d3f3-4f33-8b91-798d9a6ce835",
   "metadata": {},
   "source": [
    "## **Lists and Indexing**"
   ]
  },
  {
   "cell_type": "markdown",
   "id": "b3935e00-936a-4c68-8409-e0d02ae4a302",
   "metadata": {},
   "source": [
    "### **List Examples and Use Cases**"
   ]
  },
  {
   "cell_type": "code",
   "execution_count": 53,
   "id": "bbaa5e4e-7076-4596-9b69-cc9735cbe06b",
   "metadata": {},
   "outputs": [],
   "source": [
    "my_list = [1,2,3,4,5]"
   ]
  },
  {
   "cell_type": "code",
   "execution_count": 54,
   "id": "78a01c83-557d-44c8-81ef-4cd70b138f2e",
   "metadata": {},
   "outputs": [
    {
     "data": {
      "text/plain": [
       "list"
      ]
     },
     "execution_count": 54,
     "metadata": {},
     "output_type": "execute_result"
    }
   ],
   "source": [
    "type(my_list)"
   ]
  },
  {
   "cell_type": "code",
   "execution_count": 55,
   "id": "3d9a881c-e40a-4746-a1ae-8ca7ae0ca68f",
   "metadata": {},
   "outputs": [],
   "source": [
    "temperatures = [20,22,21,19,13,21]"
   ]
  },
  {
   "cell_type": "markdown",
   "id": "d33065bd-0e8e-4587-8fac-212501ac2e3a",
   "metadata": {},
   "source": [
    "### **Lists with different variable types**"
   ]
  },
  {
   "cell_type": "code",
   "execution_count": 61,
   "id": "1c53027d-0780-40f5-a246-cfd95ec4b82a",
   "metadata": {},
   "outputs": [],
   "source": [
    "dec_temperatures = [\"Dec 10\",20, \"Dec 11\",22, \"Dec 12\",21, \"Dec 13\",19, \"Dec 14\",13, \"Dec 15\",21]"
   ]
  },
  {
   "cell_type": "code",
   "execution_count": 65,
   "id": "6f6e67a2-62e1-4949-9398-fa3a5eebdaea",
   "metadata": {},
   "outputs": [],
   "source": [
    "dec_temperatures_mood = [\"Dec 10\",20, True, \"Dec 11\", 22, True, \"Dec 12\",21, True, \"Dec 14\",13, False, \"Dec 15\",21,True]\n",
    "# Using booleans to show my mood based on the temperature of the weather in December, True = good mood, False= bad mood"
   ]
  },
  {
   "cell_type": "markdown",
   "id": "4d732aee-3342-4a95-a04a-9db970a4a52d",
   "metadata": {},
   "source": [
    "### **Indexing**"
   ]
  },
  {
   "cell_type": "code",
   "execution_count": 66,
   "id": "23fccd51-e33c-46e1-8701-4e805b02f240",
   "metadata": {},
   "outputs": [
    {
     "data": {
      "text/plain": [
       "'Dec 10'"
      ]
     },
     "execution_count": 66,
     "metadata": {},
     "output_type": "execute_result"
    }
   ],
   "source": [
    "dec_temperatures_mood[0]"
   ]
  },
  {
   "cell_type": "code",
   "execution_count": 67,
   "id": "8a02c0f5-62cc-43f5-8116-a843185bff60",
   "metadata": {},
   "outputs": [
    {
     "data": {
      "text/plain": [
       "True"
      ]
     },
     "execution_count": 67,
     "metadata": {},
     "output_type": "execute_result"
    }
   ],
   "source": [
    "dec_temperatures_mood[5]"
   ]
  },
  {
   "cell_type": "code",
   "execution_count": 68,
   "id": "e36df8de-743e-41c9-99af-f1945b723df6",
   "metadata": {},
   "outputs": [
    {
     "data": {
      "text/plain": [
       "str"
      ]
     },
     "execution_count": 68,
     "metadata": {},
     "output_type": "execute_result"
    }
   ],
   "source": [
    "type(dec_temperatures_mood[3])"
   ]
  },
  {
   "cell_type": "code",
   "execution_count": 74,
   "id": "1d56785c-ca1f-425b-9613-b4ddacea3eeb",
   "metadata": {},
   "outputs": [],
   "source": [
    "dec_temperatures_mood = [[\"Dec 10\",20, True], [\"Dec 11\", 22, True], [\"Dec 12\",21, True], [\"Dec 14\",13, False], [\"Dec 15\",21,True]]\n",
    "# Creating a list of lists "
   ]
  },
  {
   "cell_type": "code",
   "execution_count": 71,
   "id": "9bd21111-5cb8-474f-8003-b9de1b02b7e5",
   "metadata": {},
   "outputs": [
    {
     "name": "stdout",
     "output_type": "stream",
     "text": [
      "[['Dec 10', 20, True], ['Dec 11', 22, True], ['Dec 12', 21, True], ['Dec 14', 13, False], ['Dec 15', 21, True]]\n"
     ]
    }
   ],
   "source": [
    "print(dec_temperatures_mood)"
   ]
  },
  {
   "cell_type": "code",
   "execution_count": 72,
   "id": "add7f6d6-21b4-4897-b634-ac2533424d33",
   "metadata": {},
   "outputs": [
    {
     "data": {
      "text/plain": [
       "['Dec 11', 22, True]"
      ]
     },
     "execution_count": 72,
     "metadata": {},
     "output_type": "execute_result"
    }
   ],
   "source": [
    "# Index List of Lists\n",
    "dec_temperatures_mood[1]"
   ]
  },
  {
   "cell_type": "markdown",
   "id": "c5e56e6d-cc9e-4672-b88f-15feed0d0005",
   "metadata": {},
   "source": [
    "# **Advanced Indexing**"
   ]
  },
  {
   "cell_type": "code",
   "execution_count": 88,
   "id": "573e9ade-2c12-461f-b6b1-22dceeee6232",
   "metadata": {},
   "outputs": [],
   "source": [
    "#List of lists - including date, temperature and mood\n",
    "dec_temperatures_mood = [[\"Dec 10\",20, True], [\"Dec 11\", 22, True], [\"Dec 12\",21, True], [\"Dec 14\",13, False], [\"Dec 15\",21,True]]"
   ]
  },
  {
   "cell_type": "markdown",
   "id": "e0149f17-ec97-4d85-b940-a3962ad3d72d",
   "metadata": {},
   "source": [
    "### **Subsetting several data points (slicing)**"
   ]
  },
  {
   "cell_type": "code",
   "execution_count": 76,
   "id": "ea89bbed-b300-4995-b755-b23ab70970c0",
   "metadata": {},
   "outputs": [
    {
     "data": {
      "text/plain": [
       "[['Dec 10', 20, True]]"
      ]
     },
     "execution_count": 76,
     "metadata": {},
     "output_type": "execute_result"
    }
   ],
   "source": [
    "# First index is inclusive, last index is exclusive\n",
    "dec_temperatures_mood[0:1]"
   ]
  },
  {
   "cell_type": "code",
   "execution_count": 77,
   "id": "193d652f-a94a-4d56-81f3-39c4b40accd3",
   "metadata": {},
   "outputs": [
    {
     "data": {
      "text/plain": [
       "[['Dec 10', 20, True], ['Dec 11', 22, True]]"
      ]
     },
     "execution_count": 77,
     "metadata": {},
     "output_type": "execute_result"
    }
   ],
   "source": [
    "dec_temperatures_mood[0:2]"
   ]
  },
  {
   "cell_type": "markdown",
   "id": "67c772e1-a65d-4cb1-8c0f-ddd9dfd3e119",
   "metadata": {},
   "source": [
    "### **Subsetting In Reverse**"
   ]
  },
  {
   "cell_type": "code",
   "execution_count": 78,
   "id": "7c0c2ee5-be57-4062-9a97-81c17177cca4",
   "metadata": {},
   "outputs": [
    {
     "data": {
      "text/plain": [
       "['Dec 15', 21, True]"
      ]
     },
     "execution_count": 78,
     "metadata": {},
     "output_type": "execute_result"
    }
   ],
   "source": [
    "dec_temperatures_mood[-1]"
   ]
  },
  {
   "cell_type": "code",
   "execution_count": 79,
   "id": "ad107dfd-10bd-446d-b519-cef82d464c23",
   "metadata": {},
   "outputs": [
    {
     "data": {
      "text/plain": [
       "[['Dec 12', 21, True], ['Dec 14', 13, False]]"
      ]
     },
     "execution_count": 79,
     "metadata": {},
     "output_type": "execute_result"
    }
   ],
   "source": [
    "dec_temperatures_mood[-3:-1]"
   ]
  },
  {
   "cell_type": "markdown",
   "id": "a8613419-6a5e-4e4d-9ae0-da988c3edeec",
   "metadata": {},
   "source": [
    "### **Subsetting with no start or stop bound**"
   ]
  },
  {
   "cell_type": "code",
   "execution_count": 80,
   "id": "579980e7-80a1-4bf2-aff4-99f33b66ad56",
   "metadata": {},
   "outputs": [
    {
     "data": {
      "text/plain": [
       "[['Dec 11', 22, True],\n",
       " ['Dec 12', 21, True],\n",
       " ['Dec 14', 13, False],\n",
       " ['Dec 15', 21, True]]"
      ]
     },
     "execution_count": 80,
     "metadata": {},
     "output_type": "execute_result"
    }
   ],
   "source": [
    "dec_temperatures_mood[1:]\n",
    "# Everything from index 1"
   ]
  },
  {
   "cell_type": "code",
   "execution_count": 82,
   "id": "4ced5d28-aaff-447b-b85e-60468d02dcc8",
   "metadata": {},
   "outputs": [
    {
     "data": {
      "text/plain": [
       "[['Dec 10', 20, True], ['Dec 11', 22, True], ['Dec 12', 21, True]]"
      ]
     },
     "execution_count": 82,
     "metadata": {},
     "output_type": "execute_result"
    }
   ],
   "source": [
    "dec_temperatures_mood[:3]\n",
    "#Everything before index 3"
   ]
  },
  {
   "cell_type": "markdown",
   "id": "22744927-41f2-44ea-bc9d-64570ca06b97",
   "metadata": {},
   "source": [
    "# **Updating Data In A List**"
   ]
  },
  {
   "cell_type": "markdown",
   "id": "1c3567e5-1291-49fd-9de3-e8cd1e1861ad",
   "metadata": {},
   "source": [
    "### **Adding data to a list**"
   ]
  },
  {
   "cell_type": "code",
   "execution_count": 89,
   "id": "e5f065a3-cb74-46fa-97c8-396d814d2d9d",
   "metadata": {},
   "outputs": [],
   "source": [
    "#List of lists - including date, temperature and mood\n",
    "dec_temperatures_mood = [[\"Dec 10\",20, True], [\"Dec 11\", 22, True], [\"Dec 12\",21, True], [\"Dec 14\",13, False], [\"Dec 15\",21,True]]"
   ]
  },
  {
   "cell_type": "code",
   "execution_count": 90,
   "id": "039d2e53-78db-41dc-ba51-709d37c3a603",
   "metadata": {},
   "outputs": [
    {
     "data": {
      "text/plain": [
       "[['Dec 10', 20, True],\n",
       " ['Dec 11', 22, True],\n",
       " ['Dec 12', 21, True],\n",
       " ['Dec 14', 13, False],\n",
       " ['Dec 15', 21, True],\n",
       " ['Dec 16', 18, False]]"
      ]
     },
     "execution_count": 90,
     "metadata": {},
     "output_type": "execute_result"
    }
   ],
   "source": [
    "# Add data to the list\n",
    "dec_temperatures_mood + [[\"Dec 16\", 18, False]]"
   ]
  },
  {
   "cell_type": "code",
   "execution_count": 93,
   "id": "0091ea7a-061e-4446-a709-3b0340070298",
   "metadata": {
    "scrolled": true
   },
   "outputs": [
    {
     "data": {
      "text/plain": [
       "[['Dec 10', 20, True],\n",
       " ['Dec 11', 22, True],\n",
       " ['Dec 12', 21, True],\n",
       " ['Dec 14', 13, False],\n",
       " ['Dec 15', 21, True],\n",
       " 'Dec 16',\n",
       " 18,\n",
       " False]"
      ]
     },
     "execution_count": 93,
     "metadata": {},
     "output_type": "execute_result"
    }
   ],
   "source": [
    "# If we just used single brackets i.e. there is no mention of the new data\n",
    "dec_temperatures_mood + [\"Dec 16\", 18, False]"
   ]
  },
  {
   "cell_type": "code",
   "execution_count": 94,
   "id": "2a9debce-bb6a-4f7e-8558-c2ac43741afc",
   "metadata": {},
   "outputs": [
    {
     "name": "stdout",
     "output_type": "stream",
     "text": [
      "[['Dec 10', 20, True], ['Dec 11', 22, True], ['Dec 12', 21, True], ['Dec 14', 13, False], ['Dec 15', 21, True]]\n"
     ]
    }
   ],
   "source": [
    "print(dec_temperatures_mood)\n",
    "# No mention of the new data"
   ]
  },
  {
   "cell_type": "code",
   "execution_count": 96,
   "id": "dcf43547-0231-4592-ad01-5eca07e58658",
   "metadata": {},
   "outputs": [],
   "source": [
    "# Save the list with the updated data\n",
    "dec_temperatures_mood = dec_temperatures_mood + [[\"Dec 16\",18,False]]"
   ]
  },
  {
   "cell_type": "code",
   "execution_count": 97,
   "id": "a25fdeab-8007-4080-8ef0-373d5afb1cd8",
   "metadata": {},
   "outputs": [
    {
     "name": "stdout",
     "output_type": "stream",
     "text": [
      "[['Dec 10', 20, True], ['Dec 11', 22, True], ['Dec 12', 21, True], ['Dec 14', 13, False], ['Dec 15', 21, True], ['Dec 16', 18, False], ['Dec 16', 18, False]]\n"
     ]
    }
   ],
   "source": [
    "# Print the new list to confirm the data was added\n",
    "print(dec_temperatures_mood)"
   ]
  },
  {
   "cell_type": "markdown",
   "id": "19329fef-7aec-4061-9480-bd2f36a0d1bd",
   "metadata": {},
   "source": [
    "### **Deleting data from a list**"
   ]
  },
  {
   "cell_type": "code",
   "execution_count": 99,
   "id": "b5dc726d-2630-407c-8cce-0fb525460566",
   "metadata": {},
   "outputs": [
    {
     "name": "stdout",
     "output_type": "stream",
     "text": [
      "[['Dec 10', 20, True], ['Dec 11', 22, True], ['Dec 12', 21, True], ['Dec 14', 13, False], ['Dec 15', 21, True]]\n"
     ]
    }
   ],
   "source": [
    "# Delete the last element\n",
    "del(dec_temperatures_mood[-1])\n",
    "print(dec_temperatures_mood)"
   ]
  },
  {
   "cell_type": "code",
   "execution_count": 101,
   "id": "acd75a4d-f32f-49aa-a442-c71c384871cd",
   "metadata": {},
   "outputs": [
    {
     "name": "stdout",
     "output_type": "stream",
     "text": [
      "[['Dec 10', 20, True], ['Dec 11', 22, True], ['Dec 12', 21, True], ['Dec 14', 13, False], ['Dec 15', 21, True], ['Dec 16', 18, True], ['Dec 16', 18, True]]\n"
     ]
    }
   ],
   "source": [
    "# Replacing it with [\"Dec 16\", 18, True]\n",
    "dec_temperatures_mood = dec_temperatures_mood + [[\"Dec 16\",18,True]]\n",
    "print(dec_temperatures_mood)"
   ]
  },
  {
   "cell_type": "markdown",
   "id": "859b4828-409d-4f23-8476-717b7e0d3c34",
   "metadata": {},
   "source": [
    "### **Replacing data in a list**"
   ]
  },
  {
   "cell_type": "code",
   "execution_count": 102,
   "id": "cc692b58-74e1-4558-a668-c8f5b820b782",
   "metadata": {},
   "outputs": [],
   "source": [
    "# Instead of deleting and replacing, update with subsetting (slicing)\n",
    "dec_temperatures_mood[-1] = [\"Dec 16\", 13, False]"
   ]
  },
  {
   "cell_type": "code",
   "execution_count": 103,
   "id": "188a56a9-cb08-4ad9-a7b1-c28c763ee525",
   "metadata": {},
   "outputs": [
    {
     "name": "stdout",
     "output_type": "stream",
     "text": [
      "[['Dec 10', 20, True], ['Dec 11', 22, True], ['Dec 12', 21, True], ['Dec 14', 13, False], ['Dec 15', 21, True], ['Dec 16', 18, True], ['Dec 16', 13, False]]\n"
     ]
    }
   ],
   "source": [
    "print(dec_temperatures_mood)"
   ]
  },
  {
   "cell_type": "code",
   "execution_count": null,
   "id": "47d1ef47-1dea-4bac-b38d-4d87645b7320",
   "metadata": {},
   "outputs": [],
   "source": []
  }
 ],
 "metadata": {
  "kernelspec": {
   "display_name": "Python [conda env:base] *",
   "language": "python",
   "name": "conda-base-py"
  },
  "language_info": {
   "codemirror_mode": {
    "name": "ipython",
    "version": 3
   },
   "file_extension": ".py",
   "mimetype": "text/x-python",
   "name": "python",
   "nbconvert_exporter": "python",
   "pygments_lexer": "ipython3",
   "version": "3.13.5"
  },
  "widgets": {
   "application/vnd.jupyter.widget-state+json": {
    "state": {},
    "version_major": 2,
    "version_minor": 0
   }
  }
 },
 "nbformat": 4,
 "nbformat_minor": 5
}
