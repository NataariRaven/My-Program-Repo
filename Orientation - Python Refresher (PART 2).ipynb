{
 "cells": [
  {
   "cell_type": "markdown",
   "id": "a7e1809a-3a0c-4820-8295-aa3937107bf4",
   "metadata": {},
   "source": [
    "# **Writing User-Defined Functions**"
   ]
  },
  {
   "cell_type": "markdown",
   "id": "ee3343ac-35f7-4bc7-9d8d-20367be0717d",
   "metadata": {},
   "source": [
    "### **Writing a More Flexible Function**"
   ]
  },
  {
   "cell_type": "code",
   "execution_count": 15,
   "id": "e9ebb7e7-2a19-432d-b043-fce9fc4b05b0",
   "metadata": {},
   "outputs": [],
   "source": [
    "def hello_name(name):\n",
    "    \"\"\"prints out, Hello, (name of a person)\"\"\"\n",
    "    x = \"Hello, \" + name\n",
    "    print(x)"
   ]
  },
  {
   "cell_type": "code",
   "execution_count": 9,
   "id": "a3af9f23-ee9d-4ccd-acc7-359b450f901b",
   "metadata": {},
   "outputs": [
    {
     "name": "stdout",
     "output_type": "stream",
     "text": [
      "Hello, Kate\n"
     ]
    }
   ],
   "source": [
    "hello_name('Kate')"
   ]
  },
  {
   "cell_type": "markdown",
   "id": "77573b31-a908-4747-a12f-a54639b5789b",
   "metadata": {},
   "source": [
    "### **Writing functions with multiple parameters**"
   ]
  },
  {
   "cell_type": "code",
   "execution_count": 16,
   "id": "33bd5bbd-94e0-498a-8645-7bd6d0f5212d",
   "metadata": {},
   "outputs": [],
   "source": [
    "def greeting(greeting, name):\n",
    "    \"\"\"prints out a greeting + name\"\"\"\n",
    "    x = greeting + name\n",
    "    print(x)"
   ]
  },
  {
   "cell_type": "code",
   "execution_count": 11,
   "id": "4b4b8e84-6ae1-4705-9b1b-3d4f113686bf",
   "metadata": {},
   "outputs": [
    {
     "name": "stdout",
     "output_type": "stream",
     "text": [
      "Good Morning George!\n"
     ]
    }
   ],
   "source": [
    "greeting(\"Good Morning \", \"George!\")"
   ]
  },
  {
   "cell_type": "code",
   "execution_count": 14,
   "id": "af26efdd-a559-40db-a504-670d470fe345",
   "metadata": {},
   "outputs": [
    {
     "name": "stdout",
     "output_type": "stream",
     "text": [
      "Hey, Jimmy\n"
     ]
    }
   ],
   "source": [
    "greeting(name = \"Jimmy\", greeting = \"Hey, \")"
   ]
  },
  {
   "cell_type": "markdown",
   "id": "61a4e8a2-62fc-4459-96a8-376f847b806c",
   "metadata": {},
   "source": [
    "# **Conditonals: If Statements**"
   ]
  },
  {
   "cell_type": "markdown",
   "id": "3795bc5d-aeba-4d4f-8625-545b9a91abda",
   "metadata": {},
   "source": [
    "### **If**"
   ]
  },
  {
   "cell_type": "code",
   "execution_count": 17,
   "id": "4556e093-8e5b-4646-9653-2a98d0432334",
   "metadata": {},
   "outputs": [],
   "source": [
    "def score_description(score):\n",
    "    if score > 65:\n",
    "        print('You passed the test, well done!')"
   ]
  },
  {
   "cell_type": "code",
   "execution_count": 18,
   "id": "4f4d9bd3-f9b5-47f6-8e03-67c61823c57f",
   "metadata": {},
   "outputs": [
    {
     "name": "stdout",
     "output_type": "stream",
     "text": [
      "You passed the test, well done!\n"
     ]
    }
   ],
   "source": [
    "score_description(80)"
   ]
  },
  {
   "cell_type": "markdown",
   "id": "a3de830f-7a5b-4511-8a95-e075edb474e9",
   "metadata": {},
   "source": [
    "### **Else**"
   ]
  },
  {
   "cell_type": "code",
   "execution_count": 19,
   "id": "da9ecb28-9918-4fde-a8b3-0f105d767219",
   "metadata": {},
   "outputs": [],
   "source": [
    "def score_description(score):\n",
    "    if score > 65:\n",
    "        print('You passed the test, well done!')\n",
    "    else:\n",
    "        print ('You failed the test, looks like your cooked mate')"
   ]
  },
  {
   "cell_type": "code",
   "execution_count": 20,
   "id": "fc4acb4d-0506-4a71-b893-db790208695f",
   "metadata": {},
   "outputs": [
    {
     "name": "stdout",
     "output_type": "stream",
     "text": [
      "You passed the test, well done!\n"
     ]
    }
   ],
   "source": [
    "score_description(80)"
   ]
  },
  {
   "cell_type": "code",
   "execution_count": 21,
   "id": "3e57cbd9-d141-44ff-b520-724598872970",
   "metadata": {},
   "outputs": [
    {
     "name": "stdout",
     "output_type": "stream",
     "text": [
      "You failed the test, looks like your cooked mate\n"
     ]
    }
   ],
   "source": [
    "score_description(35)"
   ]
  },
  {
   "cell_type": "markdown",
   "id": "00cbc131-ea26-4f49-882e-843f1ef5a5c8",
   "metadata": {},
   "source": [
    "### **Elif**"
   ]
  },
  {
   "cell_type": "code",
   "execution_count": 28,
   "id": "eebaac94-f8c3-4ee3-9cb9-22ac759ed798",
   "metadata": {},
   "outputs": [],
   "source": [
    "def letter_grade(score):\n",
    "    if score <=100 and score >90:\n",
    "        print('A')\n",
    "    elif score <=90 and score >80:\n",
    "        print('B')\n",
    "    elif score <=80 and score >70:\n",
    "        print('C')\n",
    "    else:\n",
    "        print('F')"
   ]
  },
  {
   "cell_type": "code",
   "execution_count": 23,
   "id": "38cd56a6-a3dd-49b0-960f-1d23af8a5dfe",
   "metadata": {},
   "outputs": [
    {
     "name": "stdout",
     "output_type": "stream",
     "text": [
      "A\n"
     ]
    }
   ],
   "source": [
    "letter_grade(95)"
   ]
  },
  {
   "cell_type": "code",
   "execution_count": 26,
   "id": "356ba557-7ce1-4259-a7c4-166865663ad5",
   "metadata": {},
   "outputs": [
    {
     "name": "stdout",
     "output_type": "stream",
     "text": [
      "B\n"
     ]
    }
   ],
   "source": [
    "letter_grade(83)"
   ]
  },
  {
   "cell_type": "code",
   "execution_count": 29,
   "id": "5652a39d-6407-4b00-9150-a134ad81c361",
   "metadata": {},
   "outputs": [
    {
     "name": "stdout",
     "output_type": "stream",
     "text": [
      "C\n"
     ]
    }
   ],
   "source": [
    "letter_grade(71)"
   ]
  },
  {
   "cell_type": "code",
   "execution_count": 30,
   "id": "8f1c7a8e-3675-4bad-80c4-fc314ed64538",
   "metadata": {},
   "outputs": [
    {
     "name": "stdout",
     "output_type": "stream",
     "text": [
      "F\n"
     ]
    }
   ],
   "source": [
    "letter_grade(64)"
   ]
  },
  {
   "cell_type": "markdown",
   "id": "6fac7613-da84-43d8-8677-6544366a02d2",
   "metadata": {},
   "source": [
    "### **Ordering and Indenting**"
   ]
  },
  {
   "cell_type": "code",
   "execution_count": 42,
   "id": "ad1bfca9-0f2f-4c81-903e-02cc35c00250",
   "metadata": {},
   "outputs": [],
   "source": [
    "x = 12"
   ]
  },
  {
   "cell_type": "code",
   "execution_count": 43,
   "id": "c9ae6346-e988-4a2a-b945-584a83e714db",
   "metadata": {},
   "outputs": [
    {
     "name": "stdout",
     "output_type": "stream",
     "text": [
      "15\n"
     ]
    }
   ],
   "source": [
    "if x==9:\n",
    "    print(x+1)\n",
    "elif x < 10:\n",
    "    print(x+2)\n",
    "else:\n",
    "    print (x+3)\n",
    "    "
   ]
  },
  {
   "cell_type": "markdown",
   "id": "b5f8546f-bd59-4489-a537-53e6d2eba2a7",
   "metadata": {},
   "source": [
    "# **Conditionals: While Loops**"
   ]
  },
  {
   "cell_type": "markdown",
   "id": "707f8691-f712-4cc2-868e-f7fd99b004d0",
   "metadata": {},
   "source": [
    "### **While Loop Syntax**"
   ]
  },
  {
   "cell_type": "code",
   "execution_count": 44,
   "id": "2baee476-6777-4b9b-b651-fd382bf73894",
   "metadata": {},
   "outputs": [],
   "source": [
    "x = 2"
   ]
  },
  {
   "cell_type": "code",
   "execution_count": 45,
   "id": "f134b746-d890-4227-b1f5-967ec8ed4fe1",
   "metadata": {},
   "outputs": [
    {
     "name": "stdout",
     "output_type": "stream",
     "text": [
      "20\n",
      "200\n",
      "2000\n"
     ]
    }
   ],
   "source": [
    "while x < 1000:\n",
    "    x = x*10\n",
    "    print(x)"
   ]
  },
  {
   "cell_type": "markdown",
   "id": "1af8329a-a732-48db-8338-d168b21221da",
   "metadata": {},
   "source": [
    "### **Correctly Assigning the Variable**"
   ]
  },
  {
   "cell_type": "code",
   "execution_count": 46,
   "id": "dfc26f89-9149-4796-8fb5-2e4987706fb8",
   "metadata": {},
   "outputs": [],
   "source": [
    "y = 15"
   ]
  },
  {
   "cell_type": "code",
   "execution_count": 48,
   "id": "dcceef42-6a48-4c8d-bf9c-8759238f8b15",
   "metadata": {},
   "outputs": [
    {
     "name": "stdout",
     "output_type": "stream",
     "text": [
      "150\n",
      "1500\n"
     ]
    }
   ],
   "source": [
    "while y < 1000:\n",
    "    y = y*10\n",
    "    print(y)    "
   ]
  },
  {
   "cell_type": "markdown",
   "id": "1337eb41-0342-4d91-82d3-ef4fa4bac455",
   "metadata": {},
   "source": [
    "### **Using While in a Function**"
   ]
  },
  {
   "cell_type": "code",
   "execution_count": 64,
   "id": "3f992556-6735-4667-8779-35757567f1d9",
   "metadata": {},
   "outputs": [],
   "source": [
    "def subtract_one(x):\n",
    "    while x > 2:\n",
    "        x = x - 1\n",
    "        print(x)"
   ]
  },
  {
   "cell_type": "code",
   "execution_count": 67,
   "id": "a6c55d46-20dc-4173-9b96-9d1f54ea5506",
   "metadata": {},
   "outputs": [
    {
     "name": "stdout",
     "output_type": "stream",
     "text": [
      "6\n",
      "5\n",
      "4\n",
      "3\n",
      "2\n"
     ]
    }
   ],
   "source": [
    "subtract_one(7)"
   ]
  },
  {
   "cell_type": "markdown",
   "id": "c50883f4-fff6-4a99-9ff1-c2f447df1fc5",
   "metadata": {},
   "source": [
    "### **Using While With Else**"
   ]
  },
  {
   "cell_type": "code",
   "execution_count": 68,
   "id": "c2507d60-feca-455d-896f-85eed23db26f",
   "metadata": {},
   "outputs": [],
   "source": [
    "def subtract_one(x):\n",
    "    while x > 2:\n",
    "        x = x - 1\n",
    "        print(x)\n",
    "    else:\n",
    "        print('X is no longer greater than 2')"
   ]
  },
  {
   "cell_type": "code",
   "execution_count": 69,
   "id": "690a44bd-cdcc-4a58-8114-07198d1708e2",
   "metadata": {},
   "outputs": [
    {
     "name": "stdout",
     "output_type": "stream",
     "text": [
      "4\n",
      "3\n",
      "2\n",
      "X is no longer greater than 2\n"
     ]
    }
   ],
   "source": [
    "subtract_one(5)"
   ]
  },
  {
   "cell_type": "markdown",
   "id": "f73e4dbb-1775-411e-b08d-5ad46afb35d4",
   "metadata": {},
   "source": [
    "# **Conditionals: For Loops**"
   ]
  },
  {
   "cell_type": "code",
   "execution_count": 82,
   "id": "a45d82f3-9532-4493-9e50-3a83f256307a",
   "metadata": {},
   "outputs": [],
   "source": [
    "test_scores = [40,65,91,92,93]"
   ]
  },
  {
   "cell_type": "code",
   "execution_count": 73,
   "id": "6ca296b3-d491-4323-b601-93624c24901e",
   "metadata": {},
   "outputs": [],
   "source": [
    "test_scores[0] = test_scores[0] + 7\n",
    "test_scores[1] = test_scores[1] + 7\n",
    "test_scores[2] = test_scores[2] + 7\n",
    "test_scores[3] = test_scores[3] + 7\n",
    "test_scores[4] = test_scores [4] + 7"
   ]
  },
  {
   "cell_type": "code",
   "execution_count": 74,
   "id": "ac6ba632-60cf-4448-bc34-b2a0be60ded9",
   "metadata": {},
   "outputs": [
    {
     "name": "stdout",
     "output_type": "stream",
     "text": [
      "[47, 72, 98, 99, 100]\n"
     ]
    }
   ],
   "source": [
    "print(test_scores)"
   ]
  },
  {
   "cell_type": "code",
   "execution_count": 76,
   "id": "6987d235-faa5-4df8-a89c-b563cbab75f2",
   "metadata": {},
   "outputs": [],
   "source": [
    "# a for loop that adds 7 to each score\n",
    "for score in test_scores:\n",
    "    score = score + 7"
   ]
  },
  {
   "cell_type": "code",
   "execution_count": 77,
   "id": "d637ba7d-314a-4a37-bd48-81306c37c75a",
   "metadata": {},
   "outputs": [
    {
     "name": "stdout",
     "output_type": "stream",
     "text": [
      "L!\n",
      "O!\n",
      "L!\n"
     ]
    }
   ],
   "source": [
    "for letter in \"LOL\":\n",
    "    print(letter + '!')"
   ]
  },
  {
   "cell_type": "markdown",
   "id": "9693cd62-ff7e-4d5b-9420-5d9f434eaebc",
   "metadata": {},
   "source": [
    "### **Range() Function**"
   ]
  },
  {
   "cell_type": "code",
   "execution_count": 79,
   "id": "6f247922-5093-4178-b899-ed4b01200653",
   "metadata": {},
   "outputs": [],
   "source": [
    "my_list = [1,2,3,4,5]"
   ]
  },
  {
   "cell_type": "code",
   "execution_count": 80,
   "id": "e418d519-bcb6-4654-9a46-8ac223973d89",
   "metadata": {},
   "outputs": [
    {
     "name": "stdout",
     "output_type": "stream",
     "text": [
      "2\n",
      "4\n",
      "6\n",
      "8\n",
      "10\n"
     ]
    }
   ],
   "source": [
    "for number in my_list:\n",
    "    number = number*2\n",
    "    print(number)"
   ]
  },
  {
   "cell_type": "code",
   "execution_count": 81,
   "id": "382d6ec0-45f3-4335-96af-3d184041b9be",
   "metadata": {},
   "outputs": [
    {
     "name": "stdout",
     "output_type": "stream",
     "text": [
      "2\n",
      "4\n",
      "6\n",
      "8\n",
      "10\n",
      "12\n",
      "14\n",
      "16\n",
      "18\n",
      "20\n",
      "22\n",
      "24\n",
      "26\n",
      "28\n",
      "30\n",
      "32\n",
      "34\n",
      "36\n",
      "38\n",
      "40\n",
      "42\n",
      "44\n",
      "46\n",
      "48\n",
      "50\n",
      "52\n",
      "54\n",
      "56\n",
      "58\n",
      "60\n",
      "62\n",
      "64\n",
      "66\n",
      "68\n",
      "70\n",
      "72\n",
      "74\n",
      "76\n",
      "78\n",
      "80\n",
      "82\n",
      "84\n",
      "86\n",
      "88\n",
      "90\n",
      "92\n",
      "94\n",
      "96\n",
      "98\n",
      "100\n",
      "102\n",
      "104\n",
      "106\n",
      "108\n",
      "110\n",
      "112\n",
      "114\n",
      "116\n",
      "118\n",
      "120\n",
      "122\n",
      "124\n",
      "126\n",
      "128\n",
      "130\n",
      "132\n",
      "134\n",
      "136\n",
      "138\n",
      "140\n",
      "142\n",
      "144\n",
      "146\n",
      "148\n",
      "150\n",
      "152\n",
      "154\n",
      "156\n",
      "158\n",
      "160\n",
      "162\n",
      "164\n",
      "166\n",
      "168\n",
      "170\n",
      "172\n",
      "174\n",
      "176\n",
      "178\n",
      "180\n",
      "182\n",
      "184\n",
      "186\n",
      "188\n",
      "190\n",
      "192\n",
      "194\n",
      "196\n",
      "198\n",
      "200\n"
     ]
    }
   ],
   "source": [
    "# using the range function to multiply all integers 1 to 100; last number in range is not included\n",
    "for number in range(1,101):\n",
    "    number = number*2\n",
    "    print(number)"
   ]
  },
  {
   "cell_type": "markdown",
   "id": "234167a5-08a8-456d-96ca-ba9d2fd190fd",
   "metadata": {},
   "source": [
    "### **For Loops With a Conditional**"
   ]
  },
  {
   "cell_type": "code",
   "execution_count": null,
   "id": "18c1ccea-32d7-46ef-8855-402905002e06",
   "metadata": {},
   "outputs": [],
   "source": [
    "test_scores = [40,65,91,92,93]"
   ]
  },
  {
   "cell_type": "code",
   "execution_count": 84,
   "id": "ea3abfd9-bd46-4725-a778-703e4a7b7b87",
   "metadata": {},
   "outputs": [
    {
     "name": "stdout",
     "output_type": "stream",
     "text": [
      "47\n",
      "72\n",
      "91\n",
      "92\n",
      "93\n"
     ]
    }
   ],
   "source": [
    "for score in test_scores:\n",
    "    if score < 80:\n",
    "        score = score + 7\n",
    "    print(score)"
   ]
  },
  {
   "cell_type": "markdown",
   "id": "2b911508-a259-4d43-8bff-63c1f78f5b27",
   "metadata": {},
   "source": [
    "### **For Loops In a Function**"
   ]
  },
  {
   "cell_type": "code",
   "execution_count": 85,
   "id": "5e17702f-21ce-4cc7-b401-84b66e479086",
   "metadata": {},
   "outputs": [],
   "source": [
    "def score_curve(test_scores):\n",
    "    for score in test_scores:\n",
    "        if score < 80:\n",
    "            score = score + 7\n",
    "        print(score)"
   ]
  },
  {
   "cell_type": "code",
   "execution_count": 87,
   "id": "4168f8b4-dd28-4854-b510-416a14b8f2f5",
   "metadata": {},
   "outputs": [
    {
     "name": "stdout",
     "output_type": "stream",
     "text": [
      "8\n",
      "9\n",
      "90\n"
     ]
    }
   ],
   "source": [
    "score_curve([1,2,90])"
   ]
  },
  {
   "cell_type": "markdown",
   "id": "c7893136-346d-429b-8038-7dc3983aefcd",
   "metadata": {},
   "source": [
    "# **Looping Through a Dictionary**"
   ]
  },
  {
   "cell_type": "markdown",
   "id": "d6b98783-4a1b-4767-b18e-d0b148ae273e",
   "metadata": {},
   "source": [
    "### **Items() Method**"
   ]
  },
  {
   "cell_type": "code",
   "execution_count": 88,
   "id": "4ce14bea-2234-4143-b0b0-acf41acc1bec",
   "metadata": {},
   "outputs": [],
   "source": [
    "test_scores_dict = {'George':40,\n",
    "                    'Dexter':65,\n",
    "                    'Michael':92,\n",
    "                    'Kobe':93}"
   ]
  },
  {
   "cell_type": "code",
   "execution_count": 101,
   "id": "2f6edd3a-ec5c-415c-9df7-fef6a4fdd046",
   "metadata": {},
   "outputs": [
    {
     "name": "stdout",
     "output_type": "stream",
     "text": [
      "George:47\n",
      "Dexter:72\n",
      "Michael:99\n",
      "Kobe:100\n"
     ]
    }
   ],
   "source": [
    "for name, score in test_scores_dict.items():\n",
    "    score = score + 7\n",
    "    print(name+\":\"  +str(score))"
   ]
  },
  {
   "cell_type": "code",
   "execution_count": null,
   "id": "231ea3f8-e8de-4e7c-9de4-27b3782790e0",
   "metadata": {},
   "outputs": [],
   "source": []
  }
 ],
 "metadata": {
  "kernelspec": {
   "display_name": "Python [conda env:base] *",
   "language": "python",
   "name": "conda-base-py"
  },
  "language_info": {
   "codemirror_mode": {
    "name": "ipython",
    "version": 3
   },
   "file_extension": ".py",
   "mimetype": "text/x-python",
   "name": "python",
   "nbconvert_exporter": "python",
   "pygments_lexer": "ipython3",
   "version": "3.13.5"
  },
  "widgets": {
   "application/vnd.jupyter.widget-state+json": {
    "state": {},
    "version_major": 2,
    "version_minor": 0
   }
  }
 },
 "nbformat": 4,
 "nbformat_minor": 5
}
